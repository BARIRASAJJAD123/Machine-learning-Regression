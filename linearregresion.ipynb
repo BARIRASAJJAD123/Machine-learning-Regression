{
 "cells": [
  {
   "cell_type": "code",
   "execution_count": 11,
   "metadata": {},
   "outputs": [
    {
     "name": "stdout",
     "output_type": "stream",
     "text": [
      "          TV      Sales\n",
      "0  54.881350  54.812907\n",
      "1  71.518937  80.463946\n",
      "2  60.276338  72.739526\n",
      "3  54.488318  50.984059\n",
      "4  42.365480  77.592166\n"
     ]
    }
   ],
   "source": [
    "import pandas as pd\n",
    "import numpy as np\n",
    "np.random.seed(0)\n",
    "\n",
    "# Generate synthetic data\n",
    "n_samples = 100\n",
    "TV_spending = np.random.uniform(0, 100, n_samples)  \n",
    "sales = 50 + 0.3 * TV_spending + np.random.normal(0, 10, n_samples)  \n",
    "\n",
    "# Create DataFrame\n",
    "data = pd.DataFrame({'TV': TV_spending, 'Sales': sales})\n",
    "\n",
    "# Display the first few rows of the generated data\n",
    "print(data.head())\n",
    "\n",
    "# Save the data to a CSV file\n",
    "data.to_csv('advertising.csv', index=False)\n"
   ]
  },
  {
   "cell_type": "code",
   "execution_count": 17,
   "metadata": {},
   "outputs": [
    {
     "name": "stdout",
     "output_type": "stream",
     "text": [
      "Mean Squared Error (without preprocessing): 91.7753246971429\n"
     ]
    }
   ],
   "source": [
    "import pandas as pd\n",
    "from sklearn.model_selection import train_test_split\n",
    "from sklearn.linear_model import LinearRegression\n",
    "from sklearn.metrics import mean_squared_error\n",
    "\n",
    "# Load the dataset\n",
    "data = pd.read_csv('advertising.csv')\n",
    "\n",
    "# Split the dataset into features (X) and target variable (y)\n",
    "X = data['TV'].values.reshape(-1,1) # Advertising spending on TV\n",
    "y = data['Sales'].values\n",
    "\n",
    "# Split the data into training and testing sets\n",
    "X_train, X_test, y_train, y_test = train_test_split(X, y, test_size=0.2, random_state=42)\n",
    "\n",
    "# Train the model\n",
    "model = LinearRegression()\n",
    "model.fit(X_train, y_train)\n",
    "\n",
    "# Make predictions\n",
    "y_pred = model.predict(X_test)\n",
    "\n",
    "# Evaluate the model\n",
    "mse = mean_squared_error(y_test, y_pred)\n",
    "print(\"Mean Squared Error (without preprocessing):\", mse)\n"
   ]
  }
 ],
 "metadata": {
  "kernelspec": {
   "display_name": "\"Python/Mu (mu_venv-38-20231109-183720)\"",
   "language": "python",
   "name": "mu_venv-38-20231109-183720"
  },
  "language_info": {
   "codemirror_mode": {
    "name": "ipython",
    "version": 3
   },
   "file_extension": ".py",
   "mimetype": "text/x-python",
   "name": "python",
   "nbconvert_exporter": "python",
   "pygments_lexer": "ipython3",
   "version": "3.8.12"
  }
 },
 "nbformat": 4,
 "nbformat_minor": 2
}
